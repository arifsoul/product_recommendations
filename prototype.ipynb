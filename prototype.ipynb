{
 "cells": [
  {
   "cell_type": "markdown",
   "metadata": {},
   "source": [
    "KNN"
   ]
  },
  {
   "cell_type": "code",
   "execution_count": 55,
   "metadata": {},
   "outputs": [
    {
     "name": "stdout",
     "output_type": "stream",
     "text": [
      "Accuracy: 1.0\n",
      "['Beauty' 'Clothing' 'Home & Kitchen' 'Clothing' 'Electronics'\n",
      " 'Electronics']\n",
      "['Electronics']\n",
      "Recommended products for customer_id 5: 101\n"
     ]
    }
   ],
   "source": [
    "import pandas as pd\n",
    "from sklearn.model_selection import train_test_split\n",
    "from sklearn.preprocessing import MinMaxScaler\n",
    "from sklearn.neighbors import KNeighborsClassifier\n",
    "from sklearn.metrics import accuracy_score\n",
    "\n",
    "# Load data\n",
    "customer_interactions = pd.read_csv(\"dataset/customer_interactions.csv\")\n",
    "product_details = pd.read_csv(\"dataset/product_details.csv\", sep=\";\")\n",
    "purchase_history = pd.read_csv(\"dataset/purchase_history_extend.csv\", sep=\";\")\n",
    "\n",
    "# Merge data\n",
    "merged_data = pd.merge(customer_interactions, purchase_history, on=\"customer_id\")\n",
    "merged_data = pd.merge(merged_data, product_details, on=\"product_id\")\n",
    "\n",
    "# Select features and target\n",
    "X = merged_data[['page_views', 'time_spent']]\n",
    "y = merged_data['category']\n",
    "\n",
    "# Normalize data\n",
    "scaler = MinMaxScaler()\n",
    "X_scaled = scaler.fit_transform(X)\n",
    "\n",
    "# Split data into train and test sets\n",
    "X_train, X_test, y_train, y_test = train_test_split(X_scaled, y, test_size=0.2, random_state=42)\n",
    "\n",
    "# Train KNN model\n",
    "knn = KNeighborsClassifier(n_neighbors=3)\n",
    "knn.fit(X_train, y_train)\n",
    "\n",
    "# Predict and evaluate\n",
    "y_pred = knn.predict(X_test)\n",
    "accuracy = accuracy_score(y_test, y_pred)\n",
    "print(\"Accuracy:\", accuracy)\n",
    "print(y_pred)\n",
    "\n",
    "# Function to recommend products for a given customer_id\n",
    "def recommend_products(customer_id):\n",
    "    customer_data = customer_interactions[customer_interactions['customer_id'] == customer_id]\n",
    "    customer_data_scaled = scaler.transform(customer_data[['page_views', 'time_spent']])\n",
    "    prediction = knn.predict(customer_data_scaled)\n",
    "    print(prediction)\n",
    "    recommended_products = merged_data[merged_data['category'] == prediction[0]]['product_id'].values\n",
    "    print(f\"Recommended products for customer_id {customer_id}: {recommended_products[0]}\")\n",
    "    return recommended_products\n",
    "\n",
    "# Example recommendation for customer_id 1\n",
    "recommended_products = recommend_products(5)\n"
   ]
  }
 ],
 "metadata": {
  "kernelspec": {
   "display_name": "vision",
   "language": "python",
   "name": "python3"
  },
  "language_info": {
   "codemirror_mode": {
    "name": "ipython",
    "version": 3
   },
   "file_extension": ".py",
   "mimetype": "text/x-python",
   "name": "python",
   "nbconvert_exporter": "python",
   "pygments_lexer": "ipython3",
   "version": "3.10.13"
  }
 },
 "nbformat": 4,
 "nbformat_minor": 2
}
